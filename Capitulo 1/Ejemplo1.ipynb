version https://git-lfs.github.com/spec/v1
oid sha256:b55be6507a6684983f61b010e17e08e853d36a175bbd17fd4cb74b96da22c09a
size 16210
